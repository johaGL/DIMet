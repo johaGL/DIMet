{
 "cells": [
  {
   "cell_type": "markdown",
   "id": "aa38e166",
   "metadata": {},
   "source": [
    "# Analysis of the time-course glioblastoma P3 (treatment with cycloserine)"
   ]
  },
  {
   "cell_type": "markdown",
   "id": "38f65978",
   "metadata": {},
   "source": [
    "This analysis was published in Guyon _et al_. 2022, and is also shown in our manuscript.\n",
    "This notebook will guide you to reproduce the analysis, through 3 steps:\n",
    "1. Verifying the input files\n",
    "2. Running the commands for each step of the analysis:\n",
    "  * Exploratory Analysis\n",
    "  * Differential Analysis, to find Differentially Abundant-or-Marked Metabolites (DAMs) between two consecutive time points\n",
    "\n",
    "3. Visualizing the results\n",
    "\n",
    "We present here the analysis as a jupyter notebook, but other alternatives exist: command line in a unix terminal, Snakemake, or Galaxy."
   ]
  },
  {
   "cell_type": "code",
   "execution_count": 1,
   "id": "f50e6a4f",
   "metadata": {},
   "outputs": [],
   "source": [
    "import os\n",
    "import pandas as pd\n",
    "import yaml\n",
    "%matplotlib inline"
   ]
  },
  {
   "cell_type": "markdown",
   "id": "371a8afb",
   "metadata": {},
   "source": [
    "## Input files\n",
    "\n",
    "This section will  display the input data, no modifications are done on it.\n",
    "The metadata and the .yml files have been elaborated coherently with the samples and options for the analysis, respectively.  "
   ]
  },
  {
   "cell_type": "code",
   "execution_count": 2,
   "id": "c3ea8211",
   "metadata": {},
   "outputs": [
    {
     "data": {
      "text/html": [
       "<div>\n",
       "<style scoped>\n",
       "    .dataframe tbody tr th:only-of-type {\n",
       "        vertical-align: middle;\n",
       "    }\n",
       "\n",
       "    .dataframe tbody tr th {\n",
       "        vertical-align: top;\n",
       "    }\n",
       "\n",
       "    .dataframe thead th {\n",
       "        text-align: right;\n",
       "    }\n",
       "</style>\n",
       "<table border=\"1\" class=\"dataframe\">\n",
       "  <thead>\n",
       "    <tr style=\"text-align: right;\">\n",
       "      <th></th>\n",
       "      <th>original_name</th>\n",
       "      <th>short_comp</th>\n",
       "      <th>timepoint</th>\n",
       "      <th>condition</th>\n",
       "      <th>timenum</th>\n",
       "      <th>name_to_plot</th>\n",
       "    </tr>\n",
       "  </thead>\n",
       "  <tbody>\n",
       "    <tr>\n",
       "      <th>0</th>\n",
       "      <td>MCF001089_TD19</td>\n",
       "      <td>cell</td>\n",
       "      <td>T0</td>\n",
       "      <td>L-Cycloserine</td>\n",
       "      <td>0</td>\n",
       "      <td>L-Cycloserine_cell_T0-1</td>\n",
       "    </tr>\n",
       "    <tr>\n",
       "      <th>1</th>\n",
       "      <td>MCF001089_TD20</td>\n",
       "      <td>cell</td>\n",
       "      <td>T0</td>\n",
       "      <td>L-Cycloserine</td>\n",
       "      <td>0</td>\n",
       "      <td>L-Cycloserine_cell_T0-2</td>\n",
       "    </tr>\n",
       "    <tr>\n",
       "      <th>2</th>\n",
       "      <td>MCF001089_TD21</td>\n",
       "      <td>cell</td>\n",
       "      <td>T0</td>\n",
       "      <td>L-Cycloserine</td>\n",
       "      <td>0</td>\n",
       "      <td>L-Cycloserine_cell_T0-3</td>\n",
       "    </tr>\n",
       "    <tr>\n",
       "      <th>3</th>\n",
       "      <td>MCF001089_TD22</td>\n",
       "      <td>cell</td>\n",
       "      <td>T1h</td>\n",
       "      <td>L-Cycloserine</td>\n",
       "      <td>1</td>\n",
       "      <td>L-Cycloserine_cell_T1h-1</td>\n",
       "    </tr>\n",
       "    <tr>\n",
       "      <th>4</th>\n",
       "      <td>MCF001089_TD23</td>\n",
       "      <td>cell</td>\n",
       "      <td>T1h</td>\n",
       "      <td>L-Cycloserine</td>\n",
       "      <td>1</td>\n",
       "      <td>L-Cycloserine_cell_T1h-2</td>\n",
       "    </tr>\n",
       "  </tbody>\n",
       "</table>\n",
       "</div>"
      ],
      "text/plain": [
       "    original_name short_comp timepoint      condition  timenum  \\\n",
       "0  MCF001089_TD19       cell        T0  L-Cycloserine        0   \n",
       "1  MCF001089_TD20       cell        T0  L-Cycloserine        0   \n",
       "2  MCF001089_TD21       cell        T0  L-Cycloserine        0   \n",
       "3  MCF001089_TD22       cell       T1h  L-Cycloserine        1   \n",
       "4  MCF001089_TD23       cell       T1h  L-Cycloserine        1   \n",
       "\n",
       "               name_to_plot  \n",
       "0   L-Cycloserine_cell_T0-1  \n",
       "1   L-Cycloserine_cell_T0-2  \n",
       "2   L-Cycloserine_cell_T0-3  \n",
       "3  L-Cycloserine_cell_T1h-1  \n",
       "4  L-Cycloserine_cell_T1h-2  "
      ]
     },
     "execution_count": 2,
     "metadata": {},
     "output_type": "execute_result"
    }
   ],
   "source": [
    "metadata_filename = \"gb-cycloser-TD/data_pub/metadata_cycloser.csv\"\n",
    "metadata = pd.read_csv(metadata_filename, sep='\\t')\n",
    "metadata.head()"
   ]
  },
  {
   "cell_type": "code",
   "execution_count": 3,
   "id": "6b39bd8a",
   "metadata": {},
   "outputs": [
    {
     "name": "stdout",
     "output_type": "stream",
     "text": [
      "hours sampled :  ['T0', 'T1h', 'T2h', 'T4h', 'T6h', 'T24h']\n",
      "total of  6 time points\n"
     ]
    }
   ],
   "source": [
    "# We see the units are hours. How many time-points will be evaluated ?\n",
    "print(\"hours sampled : \", metadata['timepoint'].unique().tolist())\n",
    "print(\"total of \", len(metadata['timepoint'].unique().tolist()), \"time points\")"
   ]
  },
  {
   "cell_type": "code",
   "execution_count": 4,
   "id": "40b8e433",
   "metadata": {},
   "outputs": [],
   "source": [
    "# this config file will serve to all modules for this time-series analysis\n",
    "config_filename = \"gb-cycloser-TD/analysis_pub/config01.yml\"\n",
    "with open(config_filename, \"r\") as f:\n",
    "    confidic = yaml.load(f, Loader=yaml.Loader)"
   ]
  },
  {
   "cell_type": "code",
   "execution_count": 5,
   "id": "f98e716a",
   "metadata": {},
   "outputs": [
    {
     "name": "stdout",
     "output_type": "stream",
     "text": [
      "metadata_path : DIMet/examples/gb-cycloser-TD/data_pub/metadata_cycloser.csv\n",
      "name_abundance : rawAbundances\n",
      "name_meanE_or_fracContrib : FracContribution_C\n",
      "name_isotopologue_prop : CorrectedIsotopologues\n",
      "name_isotopologue_abs : None\n",
      "conditions : ['L-Cycloserine']\n",
      "suffix : cyo\n",
      "out_path : DIMet/examples/gb-cycloser-TD/analysis_pub/\n",
      "metabolites_to_plot : {'cell': ['Fructose_1,6-bisphosphate', 'L-Lactic_acid', 'Pyruvic_acid', 'Fumaric_acid', 'L-Alanine', 'L-Aspartic_acid', 'L-Malic_acid', 'L-Glutamic_acid', 'L-Glutamine'], 'med': ['L-Lactic_acid', 'Pyruvic_acid', 'L-Alanine', 'L-Asparagine']}\n",
      "time_sel : ['T0', 'T1h', 'T2h', 'T4h', 'T6h', 'T24h']\n",
      "barcolor : condition\n",
      "axisx : timepoint\n",
      "axisx_labeltilt : 0\n",
      "width_each_subfig : 4.1\n",
      "wspace_subfigs : 0.4\n",
      "width_each_stack : 4.3\n",
      "wspace_stacks : 0.4\n",
      "numbers_size : 9\n",
      "time_course : ranksum\n",
      "thresholds : {'padj': 0.2, 'absolute_log2FC': 0.5}\n"
     ]
    }
   ],
   "source": [
    "for key in confidic.keys():\n",
    "    print(key,\":\", confidic[key])"
   ]
  },
  {
   "cell_type": "code",
   "execution_count": 6,
   "id": "692c2f42",
   "metadata": {},
   "outputs": [
    {
     "data": {
      "text/html": [
       "<div>\n",
       "<style scoped>\n",
       "    .dataframe tbody tr th:only-of-type {\n",
       "        vertical-align: middle;\n",
       "    }\n",
       "\n",
       "    .dataframe tbody tr th {\n",
       "        vertical-align: top;\n",
       "    }\n",
       "\n",
       "    .dataframe thead th {\n",
       "        text-align: right;\n",
       "    }\n",
       "</style>\n",
       "<table border=\"1\" class=\"dataframe\">\n",
       "  <thead>\n",
       "    <tr style=\"text-align: right;\">\n",
       "      <th></th>\n",
       "      <th>MCF001089_TD19</th>\n",
       "      <th>MCF001089_TD20</th>\n",
       "      <th>MCF001089_TD21</th>\n",
       "      <th>MCF001089_TD22</th>\n",
       "      <th>MCF001089_TD23</th>\n",
       "      <th>MCF001089_TD24</th>\n",
       "      <th>MCF001089_TD25</th>\n",
       "      <th>MCF001089_TD26</th>\n",
       "      <th>MCF001089_TD27</th>\n",
       "      <th>MCF001089_TD28</th>\n",
       "      <th>...</th>\n",
       "      <th>MCF001089_TD63</th>\n",
       "      <th>MCF001089_TD64</th>\n",
       "      <th>MCF001089_TD65</th>\n",
       "      <th>MCF001089_TD66</th>\n",
       "      <th>MCF001089_TD67</th>\n",
       "      <th>MCF001089_TD68</th>\n",
       "      <th>MCF001089_TD69</th>\n",
       "      <th>MCF001089_TD70</th>\n",
       "      <th>MCF001089_TD71</th>\n",
       "      <th>MCF001089_TD72</th>\n",
       "    </tr>\n",
       "    <tr>\n",
       "      <th>metabolite_or_isotopologue</th>\n",
       "      <th></th>\n",
       "      <th></th>\n",
       "      <th></th>\n",
       "      <th></th>\n",
       "      <th></th>\n",
       "      <th></th>\n",
       "      <th></th>\n",
       "      <th></th>\n",
       "      <th></th>\n",
       "      <th></th>\n",
       "      <th></th>\n",
       "      <th></th>\n",
       "      <th></th>\n",
       "      <th></th>\n",
       "      <th></th>\n",
       "      <th></th>\n",
       "      <th></th>\n",
       "      <th></th>\n",
       "      <th></th>\n",
       "      <th></th>\n",
       "      <th></th>\n",
       "    </tr>\n",
       "  </thead>\n",
       "  <tbody>\n",
       "    <tr>\n",
       "      <th>3-Phosphoglyceric_acid</th>\n",
       "      <td>0.000000e+00</td>\n",
       "      <td>0.000000e+00</td>\n",
       "      <td>0.000000e+00</td>\n",
       "      <td>0.000000e+00</td>\n",
       "      <td>0.000000e+00</td>\n",
       "      <td>0.000000e+00</td>\n",
       "      <td>0.000000e+00</td>\n",
       "      <td>0.000000e+00</td>\n",
       "      <td>0.000000e+00</td>\n",
       "      <td>0.000000e+00</td>\n",
       "      <td>...</td>\n",
       "      <td>0.000000e+00</td>\n",
       "      <td>0.000000e+00</td>\n",
       "      <td>0.000000e+00</td>\n",
       "      <td>0.000000e+00</td>\n",
       "      <td>0.000000e+00</td>\n",
       "      <td>0.000000e+00</td>\n",
       "      <td>0.000000e+00</td>\n",
       "      <td>0.000000e+00</td>\n",
       "      <td>0.000000e+00</td>\n",
       "      <td>0.000000e+00</td>\n",
       "    </tr>\n",
       "    <tr>\n",
       "      <th>Citric_acid</th>\n",
       "      <td>NaN</td>\n",
       "      <td>NaN</td>\n",
       "      <td>NaN</td>\n",
       "      <td>NaN</td>\n",
       "      <td>NaN</td>\n",
       "      <td>NaN</td>\n",
       "      <td>NaN</td>\n",
       "      <td>NaN</td>\n",
       "      <td>NaN</td>\n",
       "      <td>NaN</td>\n",
       "      <td>...</td>\n",
       "      <td>NaN</td>\n",
       "      <td>NaN</td>\n",
       "      <td>NaN</td>\n",
       "      <td>NaN</td>\n",
       "      <td>NaN</td>\n",
       "      <td>NaN</td>\n",
       "      <td>NaN</td>\n",
       "      <td>NaN</td>\n",
       "      <td>NaN</td>\n",
       "      <td>NaN</td>\n",
       "    </tr>\n",
       "    <tr>\n",
       "      <th>D-Glyceraldehyde_3-phosphate</th>\n",
       "      <td>0.000000e+00</td>\n",
       "      <td>0.000000e+00</td>\n",
       "      <td>0.000000e+00</td>\n",
       "      <td>0.000000e+00</td>\n",
       "      <td>0.000000e+00</td>\n",
       "      <td>0.000000e+00</td>\n",
       "      <td>0.000000e+00</td>\n",
       "      <td>0.000000e+00</td>\n",
       "      <td>0.000000e+00</td>\n",
       "      <td>0.000000e+00</td>\n",
       "      <td>...</td>\n",
       "      <td>0.000000e+00</td>\n",
       "      <td>0.000000e+00</td>\n",
       "      <td>0.000000e+00</td>\n",
       "      <td>0.000000e+00</td>\n",
       "      <td>0.000000e+00</td>\n",
       "      <td>0.000000e+00</td>\n",
       "      <td>0.000000e+00</td>\n",
       "      <td>0.000000e+00</td>\n",
       "      <td>0.000000e+00</td>\n",
       "      <td>0.000000e+00</td>\n",
       "    </tr>\n",
       "    <tr>\n",
       "      <th>Fructose_1,6-bisphosphate</th>\n",
       "      <td>7.720080e+04</td>\n",
       "      <td>NaN</td>\n",
       "      <td>5.801334e+04</td>\n",
       "      <td>4.128714e+04</td>\n",
       "      <td>6.345561e+04</td>\n",
       "      <td>NaN</td>\n",
       "      <td>NaN</td>\n",
       "      <td>2.171639e+05</td>\n",
       "      <td>6.676823e+05</td>\n",
       "      <td>3.772602e+05</td>\n",
       "      <td>...</td>\n",
       "      <td>NaN</td>\n",
       "      <td>NaN</td>\n",
       "      <td>NaN</td>\n",
       "      <td>NaN</td>\n",
       "      <td>NaN</td>\n",
       "      <td>NaN</td>\n",
       "      <td>NaN</td>\n",
       "      <td>NaN</td>\n",
       "      <td>NaN</td>\n",
       "      <td>NaN</td>\n",
       "    </tr>\n",
       "    <tr>\n",
       "      <th>Fumaric_acid</th>\n",
       "      <td>2.781853e+06</td>\n",
       "      <td>5.501279e+06</td>\n",
       "      <td>1.434831e+06</td>\n",
       "      <td>3.762843e+06</td>\n",
       "      <td>2.242713e+06</td>\n",
       "      <td>2.643137e+06</td>\n",
       "      <td>NaN</td>\n",
       "      <td>4.164455e+06</td>\n",
       "      <td>5.520815e+06</td>\n",
       "      <td>3.321028e+06</td>\n",
       "      <td>...</td>\n",
       "      <td>NaN</td>\n",
       "      <td>NaN</td>\n",
       "      <td>NaN</td>\n",
       "      <td>NaN</td>\n",
       "      <td>NaN</td>\n",
       "      <td>NaN</td>\n",
       "      <td>NaN</td>\n",
       "      <td>NaN</td>\n",
       "      <td>NaN</td>\n",
       "      <td>NaN</td>\n",
       "    </tr>\n",
       "    <tr>\n",
       "      <th>Glycine</th>\n",
       "      <td>5.043359e+07</td>\n",
       "      <td>4.942364e+07</td>\n",
       "      <td>4.443580e+07</td>\n",
       "      <td>4.226575e+07</td>\n",
       "      <td>5.287894e+07</td>\n",
       "      <td>4.641374e+07</td>\n",
       "      <td>4.722448e+07</td>\n",
       "      <td>5.146364e+07</td>\n",
       "      <td>5.482906e+07</td>\n",
       "      <td>4.497576e+07</td>\n",
       "      <td>...</td>\n",
       "      <td>2.255123e+07</td>\n",
       "      <td>2.121144e+07</td>\n",
       "      <td>2.191601e+07</td>\n",
       "      <td>2.143798e+07</td>\n",
       "      <td>2.261943e+07</td>\n",
       "      <td>2.293645e+07</td>\n",
       "      <td>2.194966e+07</td>\n",
       "      <td>2.380718e+07</td>\n",
       "      <td>2.314339e+07</td>\n",
       "      <td>2.460850e+07</td>\n",
       "    </tr>\n",
       "    <tr>\n",
       "      <th>Hexose</th>\n",
       "      <td>2.321160e+07</td>\n",
       "      <td>2.496134e+07</td>\n",
       "      <td>2.373628e+07</td>\n",
       "      <td>2.085641e+07</td>\n",
       "      <td>2.191221e+07</td>\n",
       "      <td>2.320051e+07</td>\n",
       "      <td>2.010769e+07</td>\n",
       "      <td>2.334873e+07</td>\n",
       "      <td>2.729564e+07</td>\n",
       "      <td>1.762202e+07</td>\n",
       "      <td>...</td>\n",
       "      <td>2.612638e+07</td>\n",
       "      <td>2.504669e+07</td>\n",
       "      <td>2.654330e+07</td>\n",
       "      <td>2.541438e+07</td>\n",
       "      <td>2.656476e+07</td>\n",
       "      <td>2.690768e+07</td>\n",
       "      <td>2.675414e+07</td>\n",
       "      <td>2.834793e+07</td>\n",
       "      <td>2.629250e+07</td>\n",
       "      <td>2.784418e+07</td>\n",
       "    </tr>\n",
       "  </tbody>\n",
       "</table>\n",
       "<p>7 rows × 36 columns</p>\n",
       "</div>"
      ],
      "text/plain": [
       "                              MCF001089_TD19  MCF001089_TD20  MCF001089_TD21  \\\n",
       "metabolite_or_isotopologue                                                     \n",
       "3-Phosphoglyceric_acid          0.000000e+00    0.000000e+00    0.000000e+00   \n",
       "Citric_acid                              NaN             NaN             NaN   \n",
       "D-Glyceraldehyde_3-phosphate    0.000000e+00    0.000000e+00    0.000000e+00   \n",
       "Fructose_1,6-bisphosphate       7.720080e+04             NaN    5.801334e+04   \n",
       "Fumaric_acid                    2.781853e+06    5.501279e+06    1.434831e+06   \n",
       "Glycine                         5.043359e+07    4.942364e+07    4.443580e+07   \n",
       "Hexose                          2.321160e+07    2.496134e+07    2.373628e+07   \n",
       "\n",
       "                              MCF001089_TD22  MCF001089_TD23  MCF001089_TD24  \\\n",
       "metabolite_or_isotopologue                                                     \n",
       "3-Phosphoglyceric_acid          0.000000e+00    0.000000e+00    0.000000e+00   \n",
       "Citric_acid                              NaN             NaN             NaN   \n",
       "D-Glyceraldehyde_3-phosphate    0.000000e+00    0.000000e+00    0.000000e+00   \n",
       "Fructose_1,6-bisphosphate       4.128714e+04    6.345561e+04             NaN   \n",
       "Fumaric_acid                    3.762843e+06    2.242713e+06    2.643137e+06   \n",
       "Glycine                         4.226575e+07    5.287894e+07    4.641374e+07   \n",
       "Hexose                          2.085641e+07    2.191221e+07    2.320051e+07   \n",
       "\n",
       "                              MCF001089_TD25  MCF001089_TD26  MCF001089_TD27  \\\n",
       "metabolite_or_isotopologue                                                     \n",
       "3-Phosphoglyceric_acid          0.000000e+00    0.000000e+00    0.000000e+00   \n",
       "Citric_acid                              NaN             NaN             NaN   \n",
       "D-Glyceraldehyde_3-phosphate    0.000000e+00    0.000000e+00    0.000000e+00   \n",
       "Fructose_1,6-bisphosphate                NaN    2.171639e+05    6.676823e+05   \n",
       "Fumaric_acid                             NaN    4.164455e+06    5.520815e+06   \n",
       "Glycine                         4.722448e+07    5.146364e+07    5.482906e+07   \n",
       "Hexose                          2.010769e+07    2.334873e+07    2.729564e+07   \n",
       "\n",
       "                              MCF001089_TD28  ...  MCF001089_TD63  \\\n",
       "metabolite_or_isotopologue                    ...                   \n",
       "3-Phosphoglyceric_acid          0.000000e+00  ...    0.000000e+00   \n",
       "Citric_acid                              NaN  ...             NaN   \n",
       "D-Glyceraldehyde_3-phosphate    0.000000e+00  ...    0.000000e+00   \n",
       "Fructose_1,6-bisphosphate       3.772602e+05  ...             NaN   \n",
       "Fumaric_acid                    3.321028e+06  ...             NaN   \n",
       "Glycine                         4.497576e+07  ...    2.255123e+07   \n",
       "Hexose                          1.762202e+07  ...    2.612638e+07   \n",
       "\n",
       "                              MCF001089_TD64  MCF001089_TD65  MCF001089_TD66  \\\n",
       "metabolite_or_isotopologue                                                     \n",
       "3-Phosphoglyceric_acid          0.000000e+00    0.000000e+00    0.000000e+00   \n",
       "Citric_acid                              NaN             NaN             NaN   \n",
       "D-Glyceraldehyde_3-phosphate    0.000000e+00    0.000000e+00    0.000000e+00   \n",
       "Fructose_1,6-bisphosphate                NaN             NaN             NaN   \n",
       "Fumaric_acid                             NaN             NaN             NaN   \n",
       "Glycine                         2.121144e+07    2.191601e+07    2.143798e+07   \n",
       "Hexose                          2.504669e+07    2.654330e+07    2.541438e+07   \n",
       "\n",
       "                              MCF001089_TD67  MCF001089_TD68  MCF001089_TD69  \\\n",
       "metabolite_or_isotopologue                                                     \n",
       "3-Phosphoglyceric_acid          0.000000e+00    0.000000e+00    0.000000e+00   \n",
       "Citric_acid                              NaN             NaN             NaN   \n",
       "D-Glyceraldehyde_3-phosphate    0.000000e+00    0.000000e+00    0.000000e+00   \n",
       "Fructose_1,6-bisphosphate                NaN             NaN             NaN   \n",
       "Fumaric_acid                             NaN             NaN             NaN   \n",
       "Glycine                         2.261943e+07    2.293645e+07    2.194966e+07   \n",
       "Hexose                          2.656476e+07    2.690768e+07    2.675414e+07   \n",
       "\n",
       "                              MCF001089_TD70  MCF001089_TD71  MCF001089_TD72  \n",
       "metabolite_or_isotopologue                                                    \n",
       "3-Phosphoglyceric_acid          0.000000e+00    0.000000e+00    0.000000e+00  \n",
       "Citric_acid                              NaN             NaN             NaN  \n",
       "D-Glyceraldehyde_3-phosphate    0.000000e+00    0.000000e+00    0.000000e+00  \n",
       "Fructose_1,6-bisphosphate                NaN             NaN             NaN  \n",
       "Fumaric_acid                             NaN             NaN             NaN  \n",
       "Glycine                         2.380718e+07    2.314339e+07    2.460850e+07  \n",
       "Hexose                          2.834793e+07    2.629250e+07    2.784418e+07  \n",
       "\n",
       "[7 rows x 36 columns]"
      ]
     },
     "execution_count": 6,
     "metadata": {},
     "output_type": "execute_result"
    }
   ],
   "source": [
    "# quantifications files\n",
    "abundance = pd.read_csv(f'gb-cycloser-TD/data_pub/{confidic[\"name_abundance\"]}.csv',\n",
    "                       sep='\\t', header=0, index_col=0)\n",
    "abundance.head(7)"
   ]
  },
  {
   "cell_type": "code",
   "execution_count": 7,
   "id": "e8896dfc",
   "metadata": {
    "scrolled": true
   },
   "outputs": [
    {
     "data": {
      "text/html": [
       "<div>\n",
       "<style scoped>\n",
       "    .dataframe tbody tr th:only-of-type {\n",
       "        vertical-align: middle;\n",
       "    }\n",
       "\n",
       "    .dataframe tbody tr th {\n",
       "        vertical-align: top;\n",
       "    }\n",
       "\n",
       "    .dataframe thead th {\n",
       "        text-align: right;\n",
       "    }\n",
       "</style>\n",
       "<table border=\"1\" class=\"dataframe\">\n",
       "  <thead>\n",
       "    <tr style=\"text-align: right;\">\n",
       "      <th></th>\n",
       "      <th>MCF001089_TD19</th>\n",
       "      <th>MCF001089_TD20</th>\n",
       "      <th>MCF001089_TD21</th>\n",
       "      <th>MCF001089_TD22</th>\n",
       "      <th>MCF001089_TD23</th>\n",
       "      <th>MCF001089_TD24</th>\n",
       "      <th>MCF001089_TD25</th>\n",
       "      <th>MCF001089_TD26</th>\n",
       "      <th>MCF001089_TD27</th>\n",
       "      <th>MCF001089_TD28</th>\n",
       "      <th>...</th>\n",
       "      <th>MCF001089_TD63</th>\n",
       "      <th>MCF001089_TD64</th>\n",
       "      <th>MCF001089_TD65</th>\n",
       "      <th>MCF001089_TD66</th>\n",
       "      <th>MCF001089_TD67</th>\n",
       "      <th>MCF001089_TD68</th>\n",
       "      <th>MCF001089_TD69</th>\n",
       "      <th>MCF001089_TD70</th>\n",
       "      <th>MCF001089_TD71</th>\n",
       "      <th>MCF001089_TD72</th>\n",
       "    </tr>\n",
       "    <tr>\n",
       "      <th>metabolite_or_isotopologue</th>\n",
       "      <th></th>\n",
       "      <th></th>\n",
       "      <th></th>\n",
       "      <th></th>\n",
       "      <th></th>\n",
       "      <th></th>\n",
       "      <th></th>\n",
       "      <th></th>\n",
       "      <th></th>\n",
       "      <th></th>\n",
       "      <th></th>\n",
       "      <th></th>\n",
       "      <th></th>\n",
       "      <th></th>\n",
       "      <th></th>\n",
       "      <th></th>\n",
       "      <th></th>\n",
       "      <th></th>\n",
       "      <th></th>\n",
       "      <th></th>\n",
       "      <th></th>\n",
       "    </tr>\n",
       "  </thead>\n",
       "  <tbody>\n",
       "    <tr>\n",
       "      <th>Hexose_m+4</th>\n",
       "      <td>0.0000</td>\n",
       "      <td>0.0009</td>\n",
       "      <td>0.0000</td>\n",
       "      <td>0.0000</td>\n",
       "      <td>0.0000</td>\n",
       "      <td>0.0000</td>\n",
       "      <td>0.0000</td>\n",
       "      <td>0.0000</td>\n",
       "      <td>0.0000</td>\n",
       "      <td>0.0000</td>\n",
       "      <td>...</td>\n",
       "      <td>0.0</td>\n",
       "      <td>0.0</td>\n",
       "      <td>0.0</td>\n",
       "      <td>0.0</td>\n",
       "      <td>0.0</td>\n",
       "      <td>0.0</td>\n",
       "      <td>0.0</td>\n",
       "      <td>0.0000</td>\n",
       "      <td>0.0000</td>\n",
       "      <td>0.0000</td>\n",
       "    </tr>\n",
       "    <tr>\n",
       "      <th>L-Glutamic_acid_m+1</th>\n",
       "      <td>0.0084</td>\n",
       "      <td>0.0109</td>\n",
       "      <td>0.0120</td>\n",
       "      <td>0.0718</td>\n",
       "      <td>0.0660</td>\n",
       "      <td>0.0680</td>\n",
       "      <td>0.0715</td>\n",
       "      <td>0.0688</td>\n",
       "      <td>0.0676</td>\n",
       "      <td>0.0800</td>\n",
       "      <td>...</td>\n",
       "      <td>NaN</td>\n",
       "      <td>NaN</td>\n",
       "      <td>NaN</td>\n",
       "      <td>NaN</td>\n",
       "      <td>NaN</td>\n",
       "      <td>NaN</td>\n",
       "      <td>NaN</td>\n",
       "      <td>NaN</td>\n",
       "      <td>NaN</td>\n",
       "      <td>NaN</td>\n",
       "    </tr>\n",
       "    <tr>\n",
       "      <th>L-Glutamine_m+0</th>\n",
       "      <td>0.9970</td>\n",
       "      <td>0.9986</td>\n",
       "      <td>1.0000</td>\n",
       "      <td>0.7442</td>\n",
       "      <td>0.7242</td>\n",
       "      <td>0.7438</td>\n",
       "      <td>0.7153</td>\n",
       "      <td>0.6673</td>\n",
       "      <td>0.7306</td>\n",
       "      <td>0.6510</td>\n",
       "      <td>...</td>\n",
       "      <td>NaN</td>\n",
       "      <td>NaN</td>\n",
       "      <td>NaN</td>\n",
       "      <td>NaN</td>\n",
       "      <td>NaN</td>\n",
       "      <td>NaN</td>\n",
       "      <td>NaN</td>\n",
       "      <td>0.7453</td>\n",
       "      <td>0.7331</td>\n",
       "      <td>0.7547</td>\n",
       "    </tr>\n",
       "    <tr>\n",
       "      <th>L-Phenylalanine_m+2</th>\n",
       "      <td>0.0000</td>\n",
       "      <td>0.0000</td>\n",
       "      <td>0.0000</td>\n",
       "      <td>0.0000</td>\n",
       "      <td>0.0000</td>\n",
       "      <td>0.0000</td>\n",
       "      <td>0.0000</td>\n",
       "      <td>0.0000</td>\n",
       "      <td>0.0000</td>\n",
       "      <td>0.0000</td>\n",
       "      <td>...</td>\n",
       "      <td>0.0</td>\n",
       "      <td>0.0</td>\n",
       "      <td>0.0</td>\n",
       "      <td>0.0</td>\n",
       "      <td>0.0</td>\n",
       "      <td>0.0</td>\n",
       "      <td>0.0</td>\n",
       "      <td>0.0000</td>\n",
       "      <td>0.0000</td>\n",
       "      <td>0.0000</td>\n",
       "    </tr>\n",
       "    <tr>\n",
       "      <th>L-Glutamic_acid_m+2</th>\n",
       "      <td>0.0387</td>\n",
       "      <td>0.0408</td>\n",
       "      <td>0.0401</td>\n",
       "      <td>0.2379</td>\n",
       "      <td>0.2321</td>\n",
       "      <td>0.2270</td>\n",
       "      <td>0.2477</td>\n",
       "      <td>0.2507</td>\n",
       "      <td>0.2437</td>\n",
       "      <td>0.2783</td>\n",
       "      <td>...</td>\n",
       "      <td>NaN</td>\n",
       "      <td>NaN</td>\n",
       "      <td>NaN</td>\n",
       "      <td>NaN</td>\n",
       "      <td>NaN</td>\n",
       "      <td>NaN</td>\n",
       "      <td>NaN</td>\n",
       "      <td>NaN</td>\n",
       "      <td>NaN</td>\n",
       "      <td>NaN</td>\n",
       "    </tr>\n",
       "    <tr>\n",
       "      <th>Fumaric_acid_m+3</th>\n",
       "      <td>0.0000</td>\n",
       "      <td>0.0000</td>\n",
       "      <td>0.0000</td>\n",
       "      <td>0.0003</td>\n",
       "      <td>0.0000</td>\n",
       "      <td>0.0000</td>\n",
       "      <td>NaN</td>\n",
       "      <td>0.0013</td>\n",
       "      <td>0.0003</td>\n",
       "      <td>0.0000</td>\n",
       "      <td>...</td>\n",
       "      <td>NaN</td>\n",
       "      <td>NaN</td>\n",
       "      <td>NaN</td>\n",
       "      <td>NaN</td>\n",
       "      <td>NaN</td>\n",
       "      <td>NaN</td>\n",
       "      <td>NaN</td>\n",
       "      <td>NaN</td>\n",
       "      <td>NaN</td>\n",
       "      <td>NaN</td>\n",
       "    </tr>\n",
       "    <tr>\n",
       "      <th>L-Histidine_m+4</th>\n",
       "      <td>0.0000</td>\n",
       "      <td>0.0000</td>\n",
       "      <td>0.0000</td>\n",
       "      <td>0.0000</td>\n",
       "      <td>0.0000</td>\n",
       "      <td>0.0000</td>\n",
       "      <td>0.0000</td>\n",
       "      <td>0.0000</td>\n",
       "      <td>0.0000</td>\n",
       "      <td>0.0000</td>\n",
       "      <td>...</td>\n",
       "      <td>0.0</td>\n",
       "      <td>0.0</td>\n",
       "      <td>0.0</td>\n",
       "      <td>0.0</td>\n",
       "      <td>0.0</td>\n",
       "      <td>0.0</td>\n",
       "      <td>0.0</td>\n",
       "      <td>0.0000</td>\n",
       "      <td>0.0000</td>\n",
       "      <td>0.0000</td>\n",
       "    </tr>\n",
       "    <tr>\n",
       "      <th>L-Proline_m+2</th>\n",
       "      <td>0.0000</td>\n",
       "      <td>0.0000</td>\n",
       "      <td>0.0000</td>\n",
       "      <td>0.0168</td>\n",
       "      <td>0.0222</td>\n",
       "      <td>0.0202</td>\n",
       "      <td>0.0214</td>\n",
       "      <td>0.0302</td>\n",
       "      <td>0.0140</td>\n",
       "      <td>0.0313</td>\n",
       "      <td>...</td>\n",
       "      <td>0.0</td>\n",
       "      <td>0.0</td>\n",
       "      <td>0.0</td>\n",
       "      <td>0.0</td>\n",
       "      <td>0.0</td>\n",
       "      <td>0.0</td>\n",
       "      <td>0.0</td>\n",
       "      <td>0.0000</td>\n",
       "      <td>0.0000</td>\n",
       "      <td>0.0000</td>\n",
       "    </tr>\n",
       "  </tbody>\n",
       "</table>\n",
       "<p>8 rows × 36 columns</p>\n",
       "</div>"
      ],
      "text/plain": [
       "                            MCF001089_TD19  MCF001089_TD20  MCF001089_TD21  \\\n",
       "metabolite_or_isotopologue                                                   \n",
       "Hexose_m+4                          0.0000          0.0009          0.0000   \n",
       "L-Glutamic_acid_m+1                 0.0084          0.0109          0.0120   \n",
       "L-Glutamine_m+0                     0.9970          0.9986          1.0000   \n",
       "L-Phenylalanine_m+2                 0.0000          0.0000          0.0000   \n",
       "L-Glutamic_acid_m+2                 0.0387          0.0408          0.0401   \n",
       "Fumaric_acid_m+3                    0.0000          0.0000          0.0000   \n",
       "L-Histidine_m+4                     0.0000          0.0000          0.0000   \n",
       "L-Proline_m+2                       0.0000          0.0000          0.0000   \n",
       "\n",
       "                            MCF001089_TD22  MCF001089_TD23  MCF001089_TD24  \\\n",
       "metabolite_or_isotopologue                                                   \n",
       "Hexose_m+4                          0.0000          0.0000          0.0000   \n",
       "L-Glutamic_acid_m+1                 0.0718          0.0660          0.0680   \n",
       "L-Glutamine_m+0                     0.7442          0.7242          0.7438   \n",
       "L-Phenylalanine_m+2                 0.0000          0.0000          0.0000   \n",
       "L-Glutamic_acid_m+2                 0.2379          0.2321          0.2270   \n",
       "Fumaric_acid_m+3                    0.0003          0.0000          0.0000   \n",
       "L-Histidine_m+4                     0.0000          0.0000          0.0000   \n",
       "L-Proline_m+2                       0.0168          0.0222          0.0202   \n",
       "\n",
       "                            MCF001089_TD25  MCF001089_TD26  MCF001089_TD27  \\\n",
       "metabolite_or_isotopologue                                                   \n",
       "Hexose_m+4                          0.0000          0.0000          0.0000   \n",
       "L-Glutamic_acid_m+1                 0.0715          0.0688          0.0676   \n",
       "L-Glutamine_m+0                     0.7153          0.6673          0.7306   \n",
       "L-Phenylalanine_m+2                 0.0000          0.0000          0.0000   \n",
       "L-Glutamic_acid_m+2                 0.2477          0.2507          0.2437   \n",
       "Fumaric_acid_m+3                       NaN          0.0013          0.0003   \n",
       "L-Histidine_m+4                     0.0000          0.0000          0.0000   \n",
       "L-Proline_m+2                       0.0214          0.0302          0.0140   \n",
       "\n",
       "                            MCF001089_TD28  ...  MCF001089_TD63  \\\n",
       "metabolite_or_isotopologue                  ...                   \n",
       "Hexose_m+4                          0.0000  ...             0.0   \n",
       "L-Glutamic_acid_m+1                 0.0800  ...             NaN   \n",
       "L-Glutamine_m+0                     0.6510  ...             NaN   \n",
       "L-Phenylalanine_m+2                 0.0000  ...             0.0   \n",
       "L-Glutamic_acid_m+2                 0.2783  ...             NaN   \n",
       "Fumaric_acid_m+3                    0.0000  ...             NaN   \n",
       "L-Histidine_m+4                     0.0000  ...             0.0   \n",
       "L-Proline_m+2                       0.0313  ...             0.0   \n",
       "\n",
       "                            MCF001089_TD64  MCF001089_TD65  MCF001089_TD66  \\\n",
       "metabolite_or_isotopologue                                                   \n",
       "Hexose_m+4                             0.0             0.0             0.0   \n",
       "L-Glutamic_acid_m+1                    NaN             NaN             NaN   \n",
       "L-Glutamine_m+0                        NaN             NaN             NaN   \n",
       "L-Phenylalanine_m+2                    0.0             0.0             0.0   \n",
       "L-Glutamic_acid_m+2                    NaN             NaN             NaN   \n",
       "Fumaric_acid_m+3                       NaN             NaN             NaN   \n",
       "L-Histidine_m+4                        0.0             0.0             0.0   \n",
       "L-Proline_m+2                          0.0             0.0             0.0   \n",
       "\n",
       "                            MCF001089_TD67  MCF001089_TD68  MCF001089_TD69  \\\n",
       "metabolite_or_isotopologue                                                   \n",
       "Hexose_m+4                             0.0             0.0             0.0   \n",
       "L-Glutamic_acid_m+1                    NaN             NaN             NaN   \n",
       "L-Glutamine_m+0                        NaN             NaN             NaN   \n",
       "L-Phenylalanine_m+2                    0.0             0.0             0.0   \n",
       "L-Glutamic_acid_m+2                    NaN             NaN             NaN   \n",
       "Fumaric_acid_m+3                       NaN             NaN             NaN   \n",
       "L-Histidine_m+4                        0.0             0.0             0.0   \n",
       "L-Proline_m+2                          0.0             0.0             0.0   \n",
       "\n",
       "                            MCF001089_TD70  MCF001089_TD71  MCF001089_TD72  \n",
       "metabolite_or_isotopologue                                                  \n",
       "Hexose_m+4                          0.0000          0.0000          0.0000  \n",
       "L-Glutamic_acid_m+1                    NaN             NaN             NaN  \n",
       "L-Glutamine_m+0                     0.7453          0.7331          0.7547  \n",
       "L-Phenylalanine_m+2                 0.0000          0.0000          0.0000  \n",
       "L-Glutamic_acid_m+2                    NaN             NaN             NaN  \n",
       "Fumaric_acid_m+3                       NaN             NaN             NaN  \n",
       "L-Histidine_m+4                     0.0000          0.0000          0.0000  \n",
       "L-Proline_m+2                       0.0000          0.0000          0.0000  \n",
       "\n",
       "[8 rows x 36 columns]"
      ]
     },
     "execution_count": 7,
     "metadata": {},
     "output_type": "execute_result"
    }
   ],
   "source": [
    "isotopologues_prop = pd.read_csv(f'gb-cycloser-TD/data_pub/{confidic[\"name_isotopologue_prop\"]}.csv',\n",
    "                       sep='\\t', header=0, index_col=0)\n",
    "isotopologues_prop.sample(8)"
   ]
  },
  {
   "cell_type": "code",
   "execution_count": null,
   "id": "91dde619",
   "metadata": {},
   "outputs": [],
   "source": [
    "frac_contrib = pd.read_csv(f'gb-cycloser-TD/data_pub/{confidic[\"name_meanE_or_fracContrib\"]}.csv',\n",
    "                       sep='\\t', header=0, index_col=0)\n",
    "frac_contrib.sample(5)"
   ]
  },
  {
   "cell_type": "markdown",
   "id": "b781e8fb",
   "metadata": {},
   "source": [
    "## Running the analysis"
   ]
  },
  {
   "cell_type": "markdown",
   "id": "f15233c9",
   "metadata": {},
   "source": [
    "We will run the commands for the entire analysis, please note:\n",
    "\n",
    "In this jupyter notebook, this line:\n",
    "\n",
    "```\n",
    "%run -i DIMet/src/prepare.py gb-cycloser-TD/analysis_pub/configpub.yml\n",
    "```\n",
    "\n",
    "is equivalent to the following one in the terminal (or inside a Snakefile):\n",
    "```\n",
    "$ python3 -m DIMet.src.prepare gb-cycloser-TD/analysis_pub/configpub.yml\n",
    "```"
   ]
  },
  {
   "cell_type": "code",
   "execution_count": 8,
   "id": "280b8d03",
   "metadata": {},
   "outputs": [],
   "source": [
    "# go ouside DIMet for clearer commands\n",
    "\n",
    "os.chdir(\"../../\")"
   ]
  },
  {
   "cell_type": "markdown",
   "id": "3ed57231",
   "metadata": {},
   "source": [
    "#### Exploratory analysis"
   ]
  },
  {
   "cell_type": "code",
   "execution_count": 9,
   "id": "e0d42fb1",
   "metadata": {},
   "outputs": [],
   "source": [
    "%run -i DIMet/src/prepare.py DIMet/examples/gb-cycloser-TD/analysis_pub/config01.yml"
   ]
  },
  {
   "cell_type": "code",
   "execution_count": 10,
   "id": "70c2fbf6",
   "metadata": {
    "scrolled": true
   },
   "outputs": [
    {
     "data": {
      "text/plain": [
       "<Figure size 640x480 with 0 Axes>"
      ]
     },
     "metadata": {},
     "output_type": "display_data"
    }
   ],
   "source": [
    "%run -i DIMet/src/pca.py DIMet/examples/gb-cycloser-TD/analysis_pub/config01.yml  "
   ]
  },
  {
   "cell_type": "code",
   "execution_count": 11,
   "id": "effb47a9",
   "metadata": {},
   "outputs": [],
   "source": [
    "%run -i DIMet/src/abundances_bars.py DIMet/examples/gb-cycloser-TD/analysis_pub/config01.yml"
   ]
  },
  {
   "cell_type": "code",
   "execution_count": 12,
   "id": "75bbf7ff",
   "metadata": {},
   "outputs": [],
   "source": [
    "%run -i DIMet/src/isotopolog_prop_stacked.py DIMet/examples/gb-cycloser-TD/analysis_pub/config01.yml"
   ]
  },
  {
   "cell_type": "code",
   "execution_count": 13,
   "id": "d3806f59",
   "metadata": {},
   "outputs": [
    {
     "name": "stdout",
     "output_type": "stream",
     "text": [
      " Mean Enrichment -or Fractional contributions- plots \n",
      "\n"
     ]
    }
   ],
   "source": [
    "%run -i DIMet/src/MEorFC_lineplot.py DIMet/examples/gb-cycloser-TD/analysis_pub/config01.yml"
   ]
  },
  {
   "cell_type": "markdown",
   "id": "5a8c52cc",
   "metadata": {},
   "source": [
    "#### Differential Analysis"
   ]
  },
  {
   "cell_type": "code",
   "execution_count": 30,
   "id": "dc708d93",
   "metadata": {
    "scrolled": true
   },
   "outputs": [
    {
     "name": "stdout",
     "output_type": "stream",
     "text": [
      "\n",
      "  -*- searching for              Differentially Abundant-or-Marked Metabolites (DAM) -*-\n",
      "\n",
      "processing abundances\n"
     ]
    },
    {
     "name": "stderr",
     "output_type": "stream",
     "text": [
      "/home/johanna/DIMet/src/differential_analysis.py:231: RuntimeWarning: All-NaN slice encountered\n",
      "  a = [np.nanmin(x), np.nanmax(x)]\n",
      "/home/johanna/DIMet/src/differential_analysis.py:232: RuntimeWarning: All-NaN slice encountered\n",
      "  b = [np.nanmin(y), np.nanmax(y)]\n",
      "/home/johanna/DIMet/src/differential_analysis.py:231: RuntimeWarning: All-NaN slice encountered\n",
      "  a = [np.nanmin(x), np.nanmax(x)]\n",
      "/home/johanna/DIMet/src/differential_analysis.py:231: RuntimeWarning: All-NaN slice encountered\n",
      "  a = [np.nanmin(x), np.nanmax(x)]\n",
      "/home/johanna/DIMet/src/differential_analysis.py:231: RuntimeWarning: All-NaN slice encountered\n",
      "  a = [np.nanmin(x), np.nanmax(x)]\n",
      "/home/johanna/DIMet/src/differential_analysis.py:231: RuntimeWarning: All-NaN slice encountered\n",
      "  a = [np.nanmin(x), np.nanmax(x)]\n",
      "/home/johanna/DIMet/src/differential_analysis.py:231: RuntimeWarning: All-NaN slice encountered\n",
      "  a = [np.nanmin(x), np.nanmax(x)]\n",
      "/home/johanna/DIMet/src/differential_analysis.py:231: RuntimeWarning: All-NaN slice encountered\n",
      "  a = [np.nanmin(x), np.nanmax(x)]\n"
     ]
    },
    {
     "name": "stdout",
     "output_type": "stream",
     "text": [
      "processing mean enrichment or fractional contributions\n"
     ]
    },
    {
     "name": "stderr",
     "output_type": "stream",
     "text": [
      "/home/johanna/DIMet/src/differential_analysis.py:231: RuntimeWarning: All-NaN slice encountered\n",
      "  a = [np.nanmin(x), np.nanmax(x)]\n",
      "/home/johanna/DIMet/src/differential_analysis.py:232: RuntimeWarning: All-NaN slice encountered\n",
      "  b = [np.nanmin(y), np.nanmax(y)]\n",
      "/home/johanna/DIMet/src/differential_analysis.py:231: RuntimeWarning: All-NaN slice encountered\n",
      "  a = [np.nanmin(x), np.nanmax(x)]\n",
      "/home/johanna/DIMet/src/differential_analysis.py:231: RuntimeWarning: All-NaN slice encountered\n",
      "  a = [np.nanmin(x), np.nanmax(x)]\n",
      "/home/johanna/DIMet/src/differential_analysis.py:232: RuntimeWarning: All-NaN slice encountered\n",
      "  b = [np.nanmin(y), np.nanmax(y)]\n",
      "/home/johanna/DIMet/src/differential_analysis.py:231: RuntimeWarning: All-NaN slice encountered\n",
      "  a = [np.nanmin(x), np.nanmax(x)]\n",
      "/home/johanna/DIMet/src/differential_analysis.py:231: RuntimeWarning: All-NaN slice encountered\n",
      "  a = [np.nanmin(x), np.nanmax(x)]\n",
      "/home/johanna/DIMet/src/differential_analysis.py:232: RuntimeWarning: All-NaN slice encountered\n",
      "  b = [np.nanmin(y), np.nanmax(y)]\n"
     ]
    },
    {
     "name": "stdout",
     "output_type": "stream",
     "text": [
      "processing isotopologues (values given as proportions)\n"
     ]
    },
    {
     "name": "stderr",
     "output_type": "stream",
     "text": [
      "/home/johanna/DIMet/src/differential_analysis.py:232: RuntimeWarning: All-NaN slice encountered\n",
      "  b = [np.nanmin(y), np.nanmax(y)]\n",
      "/home/johanna/DIMet/src/differential_analysis.py:231: RuntimeWarning: All-NaN slice encountered\n",
      "  a = [np.nanmin(x), np.nanmax(x)]\n",
      "/home/johanna/DIMet/src/differential_analysis.py:231: RuntimeWarning: All-NaN slice encountered\n",
      "  a = [np.nanmin(x), np.nanmax(x)]\n",
      "/home/johanna/DIMet/src/differential_analysis.py:232: RuntimeWarning: All-NaN slice encountered\n",
      "  b = [np.nanmin(y), np.nanmax(y)]\n",
      "/home/johanna/DIMet/src/differential_analysis.py:232: RuntimeWarning: All-NaN slice encountered\n",
      "  b = [np.nanmin(y), np.nanmax(y)]\n",
      "/home/johanna/DIMet/src/differential_analysis.py:231: RuntimeWarning: All-NaN slice encountered\n",
      "  a = [np.nanmin(x), np.nanmax(x)]\n",
      "/home/johanna/DIMet/src/differential_analysis.py:231: RuntimeWarning: All-NaN slice encountered\n",
      "  a = [np.nanmin(x), np.nanmax(x)]\n",
      "/home/johanna/DIMet/src/differential_analysis.py:231: RuntimeWarning: All-NaN slice encountered\n",
      "  a = [np.nanmin(x), np.nanmax(x)]\n",
      "/home/johanna/DIMet/src/differential_analysis.py:232: RuntimeWarning: All-NaN slice encountered\n",
      "  b = [np.nanmin(y), np.nanmax(y)]\n",
      "/home/johanna/DIMet/src/differential_analysis.py:231: RuntimeWarning: All-NaN slice encountered\n",
      "  a = [np.nanmin(x), np.nanmax(x)]\n",
      "/home/johanna/DIMet/src/differential_analysis.py:231: RuntimeWarning: All-NaN slice encountered\n",
      "  a = [np.nanmin(x), np.nanmax(x)]\n",
      "/home/johanna/DIMet/src/differential_analysis.py:231: RuntimeWarning: All-NaN slice encountered\n",
      "  a = [np.nanmin(x), np.nanmax(x)]\n",
      "/home/johanna/DIMet/src/differential_analysis.py:232: RuntimeWarning: All-NaN slice encountered\n",
      "  b = [np.nanmin(y), np.nanmax(y)]\n"
     ]
    },
    {
     "name": "stdout",
     "output_type": "stream",
     "text": [
      "end\n"
     ]
    },
    {
     "name": "stderr",
     "output_type": "stream",
     "text": [
      "/home/johanna/DIMet/src/differential_analysis.py:231: RuntimeWarning: All-NaN slice encountered\n",
      "  a = [np.nanmin(x), np.nanmax(x)]\n",
      "/home/johanna/DIMet/src/differential_analysis.py:232: RuntimeWarning: All-NaN slice encountered\n",
      "  b = [np.nanmin(y), np.nanmax(y)]\n",
      "/home/johanna/DIMet/src/differential_analysis.py:231: RuntimeWarning: All-NaN slice encountered\n",
      "  a = [np.nanmin(x), np.nanmax(x)]\n"
     ]
    }
   ],
   "source": [
    "%run -i DIMet/src/differential_analysis.py DIMet/examples/gb-cycloser-TD/analysis_pub/config01.yml"
   ]
  },
  {
   "cell_type": "markdown",
   "id": "946888e9",
   "metadata": {},
   "source": [
    "The warning about NaN samples is expected in this dataset, this does not interfer with the results generation."
   ]
  },
  {
   "cell_type": "markdown",
   "id": "5c383630",
   "metadata": {},
   "source": [
    "## Visualize the results"
   ]
  },
  {
   "cell_type": "code",
   "execution_count": 33,
   "id": "193a0836",
   "metadata": {},
   "outputs": [],
   "source": [
    "os.chdir(\"DIMet/examples/gb-cycloser-TD/analysis_pub/results/\")"
   ]
  },
  {
   "cell_type": "code",
   "execution_count": 16,
   "id": "30ff1da1",
   "metadata": {},
   "outputs": [
    {
     "data": {
      "text/plain": [
       "['timecourse_analysis', 'prepared_tables', 'plots']"
      ]
     },
     "execution_count": 16,
     "metadata": {},
     "output_type": "execute_result"
    }
   ],
   "source": [
    "# the results are found in sub-folders inside results/:\n",
    "os.listdir()"
   ]
  },
  {
   "cell_type": "markdown",
   "id": "8f7374e2",
   "metadata": {},
   "source": [
    "The `prepared_tables/` folder, produced by `prepare.py`, contains files with adequate formatting for isotopologues names and samples names, and splitted by compartment. \n",
    "\n",
    "We go directly to exploratory analysis (plots and PCA), differential analysis and metabologram. Go to those folders and open the vector images .pdf files.\n",
    "\n",
    "#### Exploratory Analysis results"
   ]
  },
  {
   "cell_type": "code",
   "execution_count": 17,
   "id": "35e72f75",
   "metadata": {},
   "outputs": [
    {
     "data": {
      "text/plain": [
       "['pca_Abundance',\n",
       " 'pca_fracCorME',\n",
       " 'lineplots_MEorFC',\n",
       " 'stacked_Isotopologue_prop',\n",
       " 'bars_Abundance']"
      ]
     },
     "execution_count": 17,
     "metadata": {},
     "output_type": "execute_result"
    }
   ],
   "source": [
    "os.listdir(\"plots/\")"
   ]
  },
  {
   "cell_type": "code",
   "execution_count": 18,
   "id": "1e7988f5",
   "metadata": {
    "scrolled": false
   },
   "outputs": [
    {
     "data": {
      "text/plain": [
       "['pca_Abundance-med-cyo_labelno.pdf',\n",
       " 'pca_Abundance-cell-cyo_labelno.pdf',\n",
       " 'pca_Abundance-cell-cyo_labelyes.pdf',\n",
       " 'pca_Abundance-med-cyo_labelyes.pdf',\n",
       " 'variance_pca_Abundance-med-cyo.pdf',\n",
       " 'variance_pca_Abundance-cell-cyo.pdf']"
      ]
     },
     "execution_count": 18,
     "metadata": {},
     "output_type": "execute_result"
    }
   ],
   "source": [
    "os.listdir(\"plots/pca_Abundance/\") # PCA on metabolite total abundances "
   ]
  },
  {
   "cell_type": "code",
   "execution_count": 19,
   "id": "b5fee4f7",
   "metadata": {},
   "outputs": [
    {
     "data": {
      "text/plain": [
       "['pca_fracContrib-med-cyo_labelyes.pdf',\n",
       " 'variance_pca_fracContrib-med-cyo.pdf',\n",
       " 'pca_fracContrib-cell-cyo_labelyes.pdf',\n",
       " 'pca_fracContrib-cell-cyo_labelno.pdf',\n",
       " 'variance_pca_fracContrib-cell-cyo.pdf',\n",
       " 'pca_fracContrib-med-cyo_labelno.pdf']"
      ]
     },
     "execution_count": 19,
     "metadata": {},
     "output_type": "execute_result"
    }
   ],
   "source": [
    "os.listdir(\"plots/pca_fracCorME/\") # PCA on fractional contributions or mean enrichment"
   ]
  },
  {
   "cell_type": "markdown",
   "id": "cd9fcc09",
   "metadata": {},
   "source": [
    "For barplots, stacked bars and line plots we supply a legend as a separate .pdf that is valid for all the respective folder content:"
   ]
  },
  {
   "cell_type": "code",
   "execution_count": 20,
   "id": "14160a7a",
   "metadata": {},
   "outputs": [
    {
     "data": {
      "text/plain": [
       "['isotopologues_stack--cell_noxlab.pdf',\n",
       " 'isotopologues_stack--med.pdf',\n",
       " 'isotopologues_stack--med_noxlab.pdf',\n",
       " 'isotopologues_stack--cell.pdf',\n",
       " 'legend_isotopologues_stackedbars.pdf']"
      ]
     },
     "execution_count": 20,
     "metadata": {},
     "output_type": "execute_result"
    }
   ],
   "source": [
    "os.listdir(\"plots/stacked_Isotopologue_prop/\") # provided with/without x-axis text, to facilitate customization later in image editors"
   ]
  },
  {
   "cell_type": "markdown",
   "id": "97c7e56e",
   "metadata": {},
   "source": [
    "The generated plots are **vector image (vector graphics)**, in pdf formats. All these figures .pdf and .svg figures can be assempled in the final layout of your preference in a graphics processor of your choice (power point, inkscape, adobe illustrator, GIMP, etc). "
   ]
  },
  {
   "cell_type": "code",
   "execution_count": 21,
   "id": "caa4ebd7",
   "metadata": {},
   "outputs": [
    {
     "data": {
      "text/html": [
       "\n",
       "        <iframe\n",
       "            width=\"500\"\n",
       "            height=\"100\"\n",
       "            src=\"plots/stacked_Isotopologue_prop/isotopologues_stack--en.pdf\"\n",
       "            frameborder=\"0\"\n",
       "            allowfullscreen\n",
       "            \n",
       "        ></iframe>\n",
       "        "
      ],
      "text/plain": [
       "<IPython.lib.display.IFrame at 0x7f3438d29790>"
      ]
     },
     "execution_count": 21,
     "metadata": {},
     "output_type": "execute_result"
    }
   ],
   "source": [
    "from IPython.display import IFrame\n",
    "IFrame(src=\"plots/stacked_Isotopologue_prop/isotopologues_stack--en.pdf\", width=500, height=100)"
   ]
  },
  {
   "cell_type": "markdown",
   "id": "adbdaa29",
   "metadata": {},
   "source": [
    "#### Differential analysis results\n",
    "\n",
    "As we ran a **time-course** analysis, the results are in 'timecourse_analysis/'. The filters by padj <= 0.05 produce filtered tables that correspond to DAM (Differentially Abundant-or-Marked Metabolites). !!! ??????????? verify! : But nothing was found under that significance threshold, so for illustration we show results filtered by arbitrary padj ??????????????"
   ]
  },
  {
   "cell_type": "code",
   "execution_count": 34,
   "id": "dc30d2d4",
   "metadata": {},
   "outputs": [
    {
     "data": {
      "text/plain": [
       "['abundance', 'isotopol_prop', 'meanE_fracContr']"
      ]
     },
     "execution_count": 34,
     "metadata": {},
     "output_type": "execute_result"
    }
   ],
   "source": [
    "os.listdir(\"timecourse_analysis\")"
   ]
  },
  {
   "cell_type": "code",
   "execution_count": 37,
   "id": "aa5f064f",
   "metadata": {},
   "outputs": [
    {
     "data": {
      "text/plain": [
       "['FracContribution_C--med--L-Cycloserine-4_2-ranksum-cyo_filter.tsv',\n",
       " 'FracContribution_C--med--L-Cycloserine-1_0-ranksum-cyo_filter.tsv',\n",
       " 'FracContribution_C--med--L-Cycloserine-2_1-ranksum-cyo_filter.tsv',\n",
       " 'FracContribution_C--med--L-Cycloserine-24_6-ranksum-cyo_filter.tsv',\n",
       " 'FracContribution_C--cell--L-Cycloserine-6_4-ranksum-cyo_filter.tsv',\n",
       " 'FracContribution_C--cell--L-Cycloserine-4_2-ranksum-cyo_filter.tsv',\n",
       " 'FracContribution_C--med--L-Cycloserine-6_4-ranksum-cyo_filter.tsv',\n",
       " 'FracContribution_C--cell--L-Cycloserine-1_0-ranksum-cyo_filter.tsv',\n",
       " 'FracContribution_C--cell--L-Cycloserine-2_1-ranksum-cyo_filter.tsv',\n",
       " 'FracContribution_C--cell--L-Cycloserine-24_6-ranksum-cyo_filter.tsv']"
      ]
     },
     "execution_count": 37,
     "metadata": {},
     "output_type": "execute_result"
    }
   ],
   "source": [
    "os.listdir(\"timecourse_analysis/meanE_fracContr/filtered\")"
   ]
  },
  {
   "cell_type": "markdown",
   "id": "93e41bdf",
   "metadata": {},
   "source": [
    "The files are identified in this way : \n",
    " - measure--compartment--condition-timepointY_timepointX-suffix_filter.tsv\n",
    " \n",
    " \n",
    "and always timepointY is compared to timepointX. \n",
    "\n",
    "\n",
    "Therefore, this file:\n",
    "- FracContribution_C--cell--L-Cycloserine-24_6-ranksum-cyo_filter.tsv \n",
    "\n",
    "\n",
    "contains for L-Cycloserine condition, the comparison 24h _vs._ 6 hours.\n"
   ]
  },
  {
   "cell_type": "markdown",
   "id": "903ef9a8",
   "metadata": {},
   "source": [
    "**-*-** **End of the DIMet analysis** **-*-**"
   ]
  },
  {
   "cell_type": "markdown",
   "id": "9fc73148",
   "metadata": {},
   "source": [
    "--------------------------------------------------------\n",
    "#### Supplementary code : exploring the time-course analysis results"
   ]
  },
  {
   "cell_type": "code",
   "execution_count": 43,
   "id": "210f6abe",
   "metadata": {},
   "outputs": [
    {
     "name": "stdout",
     "output_type": "stream",
     "text": [
      "Diff ABUNDANT metabolites:\n",
      "\n",
      "rawAbundances--med--L-Cycloserine-6_4-ranksum-cyo_filter.tsv\n",
      "(1, 25)\n",
      "rawAbundances--cell--L-Cycloserine-1_0-ranksum-cyo_filter.tsv\n",
      "(0, 25)\n",
      "rawAbundances--med--L-Cycloserine-4_2-ranksum-cyo_filter.tsv\n",
      "(1, 25)\n",
      "rawAbundances--med--L-Cycloserine-24_6-ranksum-cyo_filter.tsv\n",
      "(0, 25)\n",
      "rawAbundances--cell--L-Cycloserine-24_6-ranksum-cyo_filter.tsv\n",
      "(4, 25)\n",
      "rawAbundances--med--L-Cycloserine-1_0-ranksum-cyo_filter.tsv\n",
      "(0, 25)\n",
      "rawAbundances--med--L-Cycloserine-2_1-ranksum-cyo_filter.tsv\n",
      "(0, 25)\n",
      "rawAbundances--cell--L-Cycloserine-6_4-ranksum-cyo_filter.tsv\n",
      "(17, 25)\n",
      "rawAbundances--cell--L-Cycloserine-4_2-ranksum-cyo_filter.tsv\n",
      "(0, 25)\n",
      "rawAbundances--cell--L-Cycloserine-2_1-ranksum-cyo_filter.tsv\n",
      "(0, 25)\n"
     ]
    }
   ],
   "source": [
    "# see which are the consecutive timepoints having more DAMs in terms of:\n",
    "# abundance\n",
    "print(\"Diff ABUNDANT metabolites:\\n\")\n",
    "\n",
    "ab_folder = \"timecourse_analysis/abundance/filtered/\"\n",
    "\n",
    "for i in os.listdir(ab_folder):\n",
    "    print(i)\n",
    "    tmpdf = pd.read_csv(f'{ab_folder}{i}',   sep='\\t', header=0)\n",
    "    print(tmpdf.shape)\n",
    "    "
   ]
  },
  {
   "cell_type": "markdown",
   "id": "27306b4e",
   "metadata": {},
   "source": [
    "We can see that the comparison 6 hours _vs._ 4 hours has 17 DAM in terms of abundance, visualize first rows:"
   ]
  },
  {
   "cell_type": "code",
   "execution_count": 46,
   "id": "272f3d22",
   "metadata": {},
   "outputs": [
    {
     "data": {
      "text/html": [
       "<div>\n",
       "<style scoped>\n",
       "    .dataframe tbody tr th:only-of-type {\n",
       "        vertical-align: middle;\n",
       "    }\n",
       "\n",
       "    .dataframe tbody tr th {\n",
       "        vertical-align: top;\n",
       "    }\n",
       "\n",
       "    .dataframe thead th {\n",
       "        text-align: right;\n",
       "    }\n",
       "</style>\n",
       "<table border=\"1\" class=\"dataframe\">\n",
       "  <thead>\n",
       "    <tr style=\"text-align: right;\">\n",
       "      <th></th>\n",
       "      <th>metabolite</th>\n",
       "      <th>log2FC</th>\n",
       "      <th>stat</th>\n",
       "      <th>pvalue</th>\n",
       "      <th>padj</th>\n",
       "      <th>distance/span</th>\n",
       "      <th>FC</th>\n",
       "      <th>count_nan_samples</th>\n",
       "      <th>distance</th>\n",
       "      <th>span_allsamples</th>\n",
       "      <th>...</th>\n",
       "      <th>input_L-Cycloserine_cell_T6h-2</th>\n",
       "      <th>input_L-Cycloserine_cell_T6h-3</th>\n",
       "      <th>L-Cycloserine_cell_T4h-1</th>\n",
       "      <th>L-Cycloserine_cell_T4h-2</th>\n",
       "      <th>L-Cycloserine_cell_T4h-3</th>\n",
       "      <th>L-Cycloserine_cell_T6h-1</th>\n",
       "      <th>L-Cycloserine_cell_T6h-2</th>\n",
       "      <th>L-Cycloserine_cell_T6h-3</th>\n",
       "      <th>geommean_6</th>\n",
       "      <th>geommean_4</th>\n",
       "    </tr>\n",
       "  </thead>\n",
       "  <tbody>\n",
       "    <tr>\n",
       "      <th>0</th>\n",
       "      <td>L-Aspartic_acid</td>\n",
       "      <td>0.963871</td>\n",
       "      <td>1.963961</td>\n",
       "      <td>0.024767</td>\n",
       "      <td>0.028482</td>\n",
       "      <td>0.587339</td>\n",
       "      <td>1.950537</td>\n",
       "      <td>('0/3', '0/3')</td>\n",
       "      <td>1.371810</td>\n",
       "      <td>2.335635</td>\n",
       "      <td>...</td>\n",
       "      <td>4.171957e+07</td>\n",
       "      <td>4.066180e+07</td>\n",
       "      <td>1.933802</td>\n",
       "      <td>1.850481</td>\n",
       "      <td>2.472381</td>\n",
       "      <td>3.844191</td>\n",
       "      <td>4.186116</td>\n",
       "      <td>4.079980</td>\n",
       "      <td>4.034206</td>\n",
       "      <td>2.068254</td>\n",
       "    </tr>\n",
       "    <tr>\n",
       "      <th>1</th>\n",
       "      <td>Hexose</td>\n",
       "      <td>0.527163</td>\n",
       "      <td>1.963961</td>\n",
       "      <td>0.024767</td>\n",
       "      <td>0.028482</td>\n",
       "      <td>0.522238</td>\n",
       "      <td>1.441093</td>\n",
       "      <td>('0/3', '0/3')</td>\n",
       "      <td>1.314310</td>\n",
       "      <td>2.516690</td>\n",
       "      <td>...</td>\n",
       "      <td>2.723081e+07</td>\n",
       "      <td>2.872366e+07</td>\n",
       "      <td>3.994830</td>\n",
       "      <td>4.377826</td>\n",
       "      <td>4.858787</td>\n",
       "      <td>6.326668</td>\n",
       "      <td>6.173097</td>\n",
       "      <td>6.511520</td>\n",
       "      <td>6.335587</td>\n",
       "      <td>4.396376</td>\n",
       "    </tr>\n",
       "    <tr>\n",
       "      <th>2</th>\n",
       "      <td>L-Malic_acid</td>\n",
       "      <td>1.123675</td>\n",
       "      <td>1.963961</td>\n",
       "      <td>0.024767</td>\n",
       "      <td>0.028482</td>\n",
       "      <td>0.502631</td>\n",
       "      <td>2.179014</td>\n",
       "      <td>('0/3', '0/3')</td>\n",
       "      <td>1.256187</td>\n",
       "      <td>2.499222</td>\n",
       "      <td>...</td>\n",
       "      <td>2.814784e+08</td>\n",
       "      <td>2.957827e+08</td>\n",
       "      <td>1.675308</td>\n",
       "      <td>1.387893</td>\n",
       "      <td>1.866468</td>\n",
       "      <td>3.122655</td>\n",
       "      <td>3.699130</td>\n",
       "      <td>3.887115</td>\n",
       "      <td>3.554269</td>\n",
       "      <td>1.631137</td>\n",
       "    </tr>\n",
       "    <tr>\n",
       "      <th>3</th>\n",
       "      <td>Hexose-phosphate</td>\n",
       "      <td>0.586165</td>\n",
       "      <td>1.963961</td>\n",
       "      <td>0.024767</td>\n",
       "      <td>0.028482</td>\n",
       "      <td>0.492753</td>\n",
       "      <td>1.501251</td>\n",
       "      <td>('0/3', '0/3')</td>\n",
       "      <td>1.220105</td>\n",
       "      <td>2.476101</td>\n",
       "      <td>...</td>\n",
       "      <td>1.085379e+09</td>\n",
       "      <td>1.009821e+09</td>\n",
       "      <td>3.600849</td>\n",
       "      <td>3.570973</td>\n",
       "      <td>4.376505</td>\n",
       "      <td>5.596610</td>\n",
       "      <td>6.047074</td>\n",
       "      <td>5.626109</td>\n",
       "      <td>5.752979</td>\n",
       "      <td>3.832125</td>\n",
       "    </tr>\n",
       "    <tr>\n",
       "      <th>4</th>\n",
       "      <td>L-Histidine</td>\n",
       "      <td>0.676656</td>\n",
       "      <td>1.963961</td>\n",
       "      <td>0.024767</td>\n",
       "      <td>0.028482</td>\n",
       "      <td>0.490128</td>\n",
       "      <td>1.598431</td>\n",
       "      <td>('0/3', '0/3')</td>\n",
       "      <td>1.286498</td>\n",
       "      <td>2.624822</td>\n",
       "      <td>...</td>\n",
       "      <td>3.280187e+07</td>\n",
       "      <td>3.456440e+07</td>\n",
       "      <td>2.626692</td>\n",
       "      <td>3.404601</td>\n",
       "      <td>3.697227</td>\n",
       "      <td>5.159344</td>\n",
       "      <td>4.983724</td>\n",
       "      <td>5.251514</td>\n",
       "      <td>5.130319</td>\n",
       "      <td>3.209597</td>\n",
       "    </tr>\n",
       "  </tbody>\n",
       "</table>\n",
       "<p>5 rows × 25 columns</p>\n",
       "</div>"
      ],
      "text/plain": [
       "         metabolite    log2FC      stat    pvalue      padj  distance/span  \\\n",
       "0   L-Aspartic_acid  0.963871  1.963961  0.024767  0.028482       0.587339   \n",
       "1            Hexose  0.527163  1.963961  0.024767  0.028482       0.522238   \n",
       "2      L-Malic_acid  1.123675  1.963961  0.024767  0.028482       0.502631   \n",
       "3  Hexose-phosphate  0.586165  1.963961  0.024767  0.028482       0.492753   \n",
       "4       L-Histidine  0.676656  1.963961  0.024767  0.028482       0.490128   \n",
       "\n",
       "         FC count_nan_samples  distance  span_allsamples  ...  \\\n",
       "0  1.950537    ('0/3', '0/3')  1.371810         2.335635  ...   \n",
       "1  1.441093    ('0/3', '0/3')  1.314310         2.516690  ...   \n",
       "2  2.179014    ('0/3', '0/3')  1.256187         2.499222  ...   \n",
       "3  1.501251    ('0/3', '0/3')  1.220105         2.476101  ...   \n",
       "4  1.598431    ('0/3', '0/3')  1.286498         2.624822  ...   \n",
       "\n",
       "  input_L-Cycloserine_cell_T6h-2  input_L-Cycloserine_cell_T6h-3  \\\n",
       "0                   4.171957e+07                    4.066180e+07   \n",
       "1                   2.723081e+07                    2.872366e+07   \n",
       "2                   2.814784e+08                    2.957827e+08   \n",
       "3                   1.085379e+09                    1.009821e+09   \n",
       "4                   3.280187e+07                    3.456440e+07   \n",
       "\n",
       "   L-Cycloserine_cell_T4h-1  L-Cycloserine_cell_T4h-2  \\\n",
       "0                  1.933802                  1.850481   \n",
       "1                  3.994830                  4.377826   \n",
       "2                  1.675308                  1.387893   \n",
       "3                  3.600849                  3.570973   \n",
       "4                  2.626692                  3.404601   \n",
       "\n",
       "   L-Cycloserine_cell_T4h-3  L-Cycloserine_cell_T6h-1  \\\n",
       "0                  2.472381                  3.844191   \n",
       "1                  4.858787                  6.326668   \n",
       "2                  1.866468                  3.122655   \n",
       "3                  4.376505                  5.596610   \n",
       "4                  3.697227                  5.159344   \n",
       "\n",
       "   L-Cycloserine_cell_T6h-2  L-Cycloserine_cell_T6h-3  geommean_6  geommean_4  \n",
       "0                  4.186116                  4.079980    4.034206    2.068254  \n",
       "1                  6.173097                  6.511520    6.335587    4.396376  \n",
       "2                  3.699130                  3.887115    3.554269    1.631137  \n",
       "3                  6.047074                  5.626109    5.752979    3.832125  \n",
       "4                  4.983724                  5.251514    5.130319    3.209597  \n",
       "\n",
       "[5 rows x 25 columns]"
      ]
     },
     "execution_count": 46,
     "metadata": {},
     "output_type": "execute_result"
    }
   ],
   "source": [
    "res_6vs4 = pd.read_csv(f'{ab_folder}rawAbundances--cell--L-Cycloserine-6_4-ranksum-cyo_filter.tsv',  \n",
    "                         sep='\\t', header=0)\n",
    "res_6vs4.head()"
   ]
  },
  {
   "cell_type": "markdown",
   "id": "c3cd5904",
   "metadata": {},
   "source": [
    "The p-value and _pajd_ are identical because the non-parametric tests have this behavior when the sample size is very small and the ranks inside each group are very similar."
   ]
  },
  {
   "cell_type": "code",
   "execution_count": 51,
   "id": "5eb7ab98",
   "metadata": {},
   "outputs": [
    {
     "name": "stdout",
     "output_type": "stream",
     "text": [
      "Diff MARKED metabolites:\n",
      "FracContribution_C--med--L-Cycloserine-4_2-ranksum-cyo_filter.tsv\n",
      "(0, 25)\n",
      "FracContribution_C--med--L-Cycloserine-1_0-ranksum-cyo_filter.tsv\n",
      "(1, 25)\n",
      "FracContribution_C--med--L-Cycloserine-2_1-ranksum-cyo_filter.tsv\n",
      "(0, 25)\n",
      "FracContribution_C--med--L-Cycloserine-24_6-ranksum-cyo_filter.tsv\n",
      "(0, 25)\n",
      "FracContribution_C--cell--L-Cycloserine-6_4-ranksum-cyo_filter.tsv\n",
      "(0, 25)\n",
      "FracContribution_C--cell--L-Cycloserine-4_2-ranksum-cyo_filter.tsv\n",
      "(2, 25)\n",
      "FracContribution_C--med--L-Cycloserine-6_4-ranksum-cyo_filter.tsv\n",
      "(0, 25)\n",
      "FracContribution_C--cell--L-Cycloserine-1_0-ranksum-cyo_filter.tsv\n",
      "(4, 25)\n",
      "FracContribution_C--cell--L-Cycloserine-2_1-ranksum-cyo_filter.tsv\n",
      "(1, 25)\n",
      "FracContribution_C--cell--L-Cycloserine-24_6-ranksum-cyo_filter.tsv\n",
      "(5, 25)\n"
     ]
    }
   ],
   "source": [
    "# fractional contribution\n",
    "print(\"Diff MARKED metabolites:\")\n",
    "mk_folder = \"timecourse_analysis/meanE_fracContr/filtered/\"\n",
    "for i in os.listdir(mk_folder):\n",
    "    print(i)\n",
    "    tmpdf = pd.read_csv(f'{mk_folder}{i}',   sep='\\t', header=0)\n",
    "    print(tmpdf.shape)"
   ]
  },
  {
   "cell_type": "markdown",
   "id": "5ce4f4ed",
   "metadata": {},
   "source": [
    "Few differentially marked metabolites are identified when comparing 24 vs 6 h, 1 vs 0 h, and 4 vs 2 hours"
   ]
  },
  {
   "cell_type": "code",
   "execution_count": null,
   "id": "70ef6a47",
   "metadata": {},
   "outputs": [],
   "source": []
  },
  {
   "cell_type": "code",
   "execution_count": null,
   "id": "5908bd7b",
   "metadata": {},
   "outputs": [],
   "source": []
  }
 ],
 "metadata": {
  "kernelspec": {
   "display_name": "Python 3 (ipykernel)",
   "language": "python",
   "name": "python3"
  },
  "language_info": {
   "codemirror_mode": {
    "name": "ipython",
    "version": 3
   },
   "file_extension": ".py",
   "mimetype": "text/x-python",
   "name": "python",
   "nbconvert_exporter": "python",
   "pygments_lexer": "ipython3",
   "version": "3.9.12"
  }
 },
 "nbformat": 4,
 "nbformat_minor": 5
}
